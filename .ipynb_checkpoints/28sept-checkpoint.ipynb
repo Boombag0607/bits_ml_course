{
 "cells": [
  {
   "cell_type": "code",
   "execution_count": null,
   "metadata": {},
   "outputs": [],
   "source": [
    "dist = [100, 50, 30, 70, 60]\n",
    "time = [5, 2, 3, 1, 4]"
   ]
  },
  {
   "cell_type": "code",
   "execution_count": null,
   "metadata": {},
   "outputs": [],
   "source": [
    "speed = []\n",
    "for i in range(len(dist)):\n",
    "    speed[i] = dist[i] / time[i]\n",
    "print(speed)"
   ]
  },
  {
   "cell_type": "code",
   "execution_count": null,
   "metadata": {},
   "outputs": [],
   "source": []
  }
 ],
 "metadata": {},
 "nbformat": 4,
 "nbformat_minor": 1
}
