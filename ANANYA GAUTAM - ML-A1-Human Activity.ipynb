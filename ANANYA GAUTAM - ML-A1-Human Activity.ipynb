{
 "cells": [
  {
   "cell_type": "markdown",
   "id": "8htdCkJrmvFd",
   "metadata": {
    "id": "8htdCkJrmvFd"
   },
   "source": [
    "Group Members: <br />\n",
    "Abhiraj Khare -           2020A7PS0161H <br />\n",
    "Nishith Kumar Gupta-          2020A4PS2336H <br />\n",
    "Ananya Gautam - 2020AAPS2096H <br />"
   ]
  },
  {
   "cell_type": "markdown",
   "id": "d7d7f1d8",
   "metadata": {
    "id": "d7d7f1d8"
   },
   "source": [
    "# NB and Logistic Regression Project \n",
    "\n",
    "Welcome to NB and Logistic Regression Project! Go ahead and follow the directions below."
   ]
  },
  {
   "cell_type": "markdown",
   "id": "7314d2dd",
   "metadata": {
    "id": "7314d2dd"
   },
   "source": [
    "**Build a classification model which will recognise the activities through the mobile sensor like walking, walking_upstairs  ,walking_downstairs ,sitting  ,standing,lying.The topic Human Activity recognition is in research and has its own advantages like anomaly detection, for healthy diet maintenance fitness bands are used , measuring stress level ,for monitoring employees ,for heartbeat pulse rate etc. In this project we are going to focus on  the dataset which was carried out through experiments with a group of 30 volunteers wearing a smartphone.The experiments have been video-recorded to label the data manually.The  main motto is to use the dataset and work with the libraries like scikit learn and machine learning related libraries and algorithms while training.**"
   ]
  },
  {
   "cell_type": "markdown",
   "id": "ec6cd280",
   "metadata": {
    "id": "ec6cd280"
   },
   "source": [
    "# <font color='red'>Download and submit only HTML file</font>"
   ]
  },
  {
   "cell_type": "markdown",
   "id": "fd98b33b",
   "metadata": {
    "id": "fd98b33b"
   },
   "source": [
    "# Import Libraries\n",
    "**Import pandas,seaborn, and the usual libraries.**"
   ]
  },
  {
   "cell_type": "code",
   "execution_count": 1,
   "id": "38b8134c",
   "metadata": {
    "id": "38b8134c"
   },
   "outputs": [],
   "source": [
    "import numpy as np\n",
    "import pandas as pd \n",
    "import time\n",
    "from sklearn.model_selection import train_test_split\n",
    "from sklearn.preprocessing import StandardScaler\n",
    "from sklearn.metrics import accuracy_score, confusion_matrix, precision_score, recall_score, f1_score\n",
    "from sklearn.naive_bayes import GaussianNB, BernoulliNB\n",
    "from sklearn.linear_model import LogisticRegression"
   ]
  },
  {
   "cell_type": "markdown",
   "id": "fa301959",
   "metadata": {
    "id": "fa301959"
   },
   "source": [
    "# EDA and Basic Data Preprocessing and Preparation [Marks:2]\n",
    "**If trying auto EDA do it in a different notebook and only highlight important, interesting or unusual pattern that you noticed in the data**\n",
    "\n",
    "<font color='red'>Give justification for your choices and techniques used for every step</font>"
   ]
  },
  {
   "cell_type": "code",
   "execution_count": 2,
   "id": "4c6b377c",
   "metadata": {
    "id": "4c6b377c"
   },
   "outputs": [],
   "source": [
    "df = pd.read_csv(\"./ANANYA GAUTAM - human_activity.csv\")"
   ]
  },
  {
   "cell_type": "markdown",
   "id": "2007fd56",
   "metadata": {},
   "source": [
    "Looking at correlation between each features of our dataset and then removing the the columns which have their correlation higher than a certain threshold which is about 0.80 and also having many correlated columns is a redundancy which we do not need to use.\n",
    "For any correlation above we will look to drop the column or think of doing the same and the threshold is 0.6"
   ]
  },
  {
   "cell_type": "code",
   "execution_count": 3,
   "id": "a3c8ea60",
   "metadata": {
    "id": "a3c8ea60"
   },
   "outputs": [],
   "source": [
    "corr_mat = df.corr().abs()\n",
    "\n",
    "# Select upper triangle of correlation matrix\n",
    "upper = corr_mat.where(np.triu(np.ones(corr_mat.shape), k=1).astype(bool))\n",
    "\n",
    "# Find index of feature columns with correlation greater than 0.80\n",
    "to_drop = [column for column in upper.columns if any(upper[column] > 0.80) or any(upper[column]< -0.80)]"
   ]
  },
  {
   "cell_type": "markdown",
   "id": "d656cabb",
   "metadata": {
    "id": "d656cabb"
   },
   "source": [
    "## Null/Outlier Treatment"
   ]
  },
  {
   "cell_type": "markdown",
   "id": "44387255",
   "metadata": {
    "id": "78f99e57"
   },
   "source": [
    "#### There are no null in the data set which have been seen from the auto eda report\n",
    "#### There are no such outliers because the data can be skewed for different kind of activities\n",
    "#### As we have concluded that there are no outliers and null so we dont need to do any treatment for the same"
   ]
  },
  {
   "cell_type": "markdown",
   "id": "6fbd7ed4",
   "metadata": {
    "id": "6fbd7ed4"
   },
   "source": [
    "## Remove non-Important Features"
   ]
  },
  {
   "cell_type": "markdown",
   "id": "e0fea6b7",
   "metadata": {},
   "source": [
    "This our actual data frame used for the model"
   ]
  },
  {
   "cell_type": "code",
   "execution_count": 4,
   "id": "fFvfLfcnAKdr",
   "metadata": {
    "id": "fFvfLfcnAKdr"
   },
   "outputs": [],
   "source": [
    "new_df =  df.drop(df[to_drop],axis = 1)"
   ]
  },
  {
   "cell_type": "markdown",
   "id": "00defbac",
   "metadata": {},
   "source": [
    "The subject feature have no effect on model training hence it is removed"
   ]
  },
  {
   "cell_type": "code",
   "execution_count": 5,
   "id": "a42d24f4",
   "metadata": {
    "colab": {
     "base_uri": "https://localhost:8080/",
     "height": 522
    },
    "id": "a42d24f4",
    "outputId": "f499a529-e75b-4b8a-b65b-fe2e820027eb"
   },
   "outputs": [
    {
     "data": {
      "text/html": [
       "<div>\n",
       "<style scoped>\n",
       "    .dataframe tbody tr th:only-of-type {\n",
       "        vertical-align: middle;\n",
       "    }\n",
       "\n",
       "    .dataframe tbody tr th {\n",
       "        vertical-align: top;\n",
       "    }\n",
       "\n",
       "    .dataframe thead th {\n",
       "        text-align: right;\n",
       "    }\n",
       "</style>\n",
       "<table border=\"1\" class=\"dataframe\">\n",
       "  <thead>\n",
       "    <tr style=\"text-align: right;\">\n",
       "      <th></th>\n",
       "      <th>tBodyAcc-mean()-X</th>\n",
       "      <th>tBodyAcc-mean()-Y</th>\n",
       "      <th>tBodyAcc-mean()-Z</th>\n",
       "      <th>tBodyAcc-std()-X</th>\n",
       "      <th>tBodyAcc-arCoeff()-X,1</th>\n",
       "      <th>tBodyAcc-arCoeff()-X,4</th>\n",
       "      <th>tBodyAcc-arCoeff()-Y,1</th>\n",
       "      <th>tBodyAcc-arCoeff()-Y,3</th>\n",
       "      <th>tBodyAcc-arCoeff()-Y,4</th>\n",
       "      <th>tBodyAcc-arCoeff()-Z,1</th>\n",
       "      <th>...</th>\n",
       "      <th>fBodyBodyGyroMag-maxInds</th>\n",
       "      <th>fBodyBodyGyroMag-skewness()</th>\n",
       "      <th>fBodyBodyGyroJerkMag-maxInds</th>\n",
       "      <th>fBodyBodyGyroJerkMag-meanFreq()</th>\n",
       "      <th>fBodyBodyGyroJerkMag-skewness()</th>\n",
       "      <th>angle(tBodyAccMean,gravity)</th>\n",
       "      <th>angle(tBodyAccJerkMean),gravityMean)</th>\n",
       "      <th>angle(tBodyGyroMean,gravityMean)</th>\n",
       "      <th>angle(tBodyGyroJerkMean,gravityMean)</th>\n",
       "      <th>Activity</th>\n",
       "    </tr>\n",
       "  </thead>\n",
       "  <tbody>\n",
       "    <tr>\n",
       "      <th>0</th>\n",
       "      <td>0.288585</td>\n",
       "      <td>-0.020294</td>\n",
       "      <td>-0.132905</td>\n",
       "      <td>-0.995279</td>\n",
       "      <td>0.929294</td>\n",
       "      <td>-0.058526</td>\n",
       "      <td>0.256892</td>\n",
       "      <td>0.264106</td>\n",
       "      <td>-0.095246</td>\n",
       "      <td>0.278851</td>\n",
       "      <td>...</td>\n",
       "      <td>-1.000000</td>\n",
       "      <td>0.586156</td>\n",
       "      <td>-1.000000</td>\n",
       "      <td>-0.074323</td>\n",
       "      <td>-0.298676</td>\n",
       "      <td>-0.112754</td>\n",
       "      <td>0.030400</td>\n",
       "      <td>-0.464761</td>\n",
       "      <td>-0.018446</td>\n",
       "      <td>STANDING</td>\n",
       "    </tr>\n",
       "    <tr>\n",
       "      <th>1</th>\n",
       "      <td>0.278419</td>\n",
       "      <td>-0.016411</td>\n",
       "      <td>-0.123520</td>\n",
       "      <td>-0.998245</td>\n",
       "      <td>0.611627</td>\n",
       "      <td>0.284595</td>\n",
       "      <td>0.115705</td>\n",
       "      <td>0.294310</td>\n",
       "      <td>-0.281211</td>\n",
       "      <td>0.085988</td>\n",
       "      <td>...</td>\n",
       "      <td>-0.948718</td>\n",
       "      <td>-0.336310</td>\n",
       "      <td>-1.000000</td>\n",
       "      <td>0.158075</td>\n",
       "      <td>-0.595051</td>\n",
       "      <td>0.053477</td>\n",
       "      <td>-0.007435</td>\n",
       "      <td>-0.732626</td>\n",
       "      <td>0.703511</td>\n",
       "      <td>STANDING</td>\n",
       "    </tr>\n",
       "    <tr>\n",
       "      <th>2</th>\n",
       "      <td>0.279653</td>\n",
       "      <td>-0.019467</td>\n",
       "      <td>-0.113462</td>\n",
       "      <td>-0.995380</td>\n",
       "      <td>0.273025</td>\n",
       "      <td>-0.164739</td>\n",
       "      <td>0.017150</td>\n",
       "      <td>0.342256</td>\n",
       "      <td>-0.332564</td>\n",
       "      <td>0.239281</td>\n",
       "      <td>...</td>\n",
       "      <td>-0.794872</td>\n",
       "      <td>-0.535352</td>\n",
       "      <td>-0.555556</td>\n",
       "      <td>0.414503</td>\n",
       "      <td>-0.390748</td>\n",
       "      <td>-0.118559</td>\n",
       "      <td>0.177899</td>\n",
       "      <td>0.100699</td>\n",
       "      <td>0.808529</td>\n",
       "      <td>STANDING</td>\n",
       "    </tr>\n",
       "    <tr>\n",
       "      <th>3</th>\n",
       "      <td>0.279174</td>\n",
       "      <td>-0.026201</td>\n",
       "      <td>-0.123283</td>\n",
       "      <td>-0.996091</td>\n",
       "      <td>0.061436</td>\n",
       "      <td>-0.264307</td>\n",
       "      <td>0.072545</td>\n",
       "      <td>0.323154</td>\n",
       "      <td>-0.170813</td>\n",
       "      <td>0.294938</td>\n",
       "      <td>...</td>\n",
       "      <td>-1.000000</td>\n",
       "      <td>-0.230091</td>\n",
       "      <td>-0.936508</td>\n",
       "      <td>0.404573</td>\n",
       "      <td>-0.117290</td>\n",
       "      <td>-0.036788</td>\n",
       "      <td>-0.012892</td>\n",
       "      <td>0.640011</td>\n",
       "      <td>-0.485366</td>\n",
       "      <td>STANDING</td>\n",
       "    </tr>\n",
       "    <tr>\n",
       "      <th>4</th>\n",
       "      <td>0.276629</td>\n",
       "      <td>-0.016570</td>\n",
       "      <td>-0.115362</td>\n",
       "      <td>-0.998139</td>\n",
       "      <td>0.313276</td>\n",
       "      <td>0.086904</td>\n",
       "      <td>0.257615</td>\n",
       "      <td>0.434728</td>\n",
       "      <td>-0.315375</td>\n",
       "      <td>0.439744</td>\n",
       "      <td>...</td>\n",
       "      <td>-0.897436</td>\n",
       "      <td>-0.510282</td>\n",
       "      <td>-0.936508</td>\n",
       "      <td>0.087753</td>\n",
       "      <td>-0.351471</td>\n",
       "      <td>0.123320</td>\n",
       "      <td>0.122542</td>\n",
       "      <td>0.693578</td>\n",
       "      <td>-0.615971</td>\n",
       "      <td>STANDING</td>\n",
       "    </tr>\n",
       "    <tr>\n",
       "      <th>...</th>\n",
       "      <td>...</td>\n",
       "      <td>...</td>\n",
       "      <td>...</td>\n",
       "      <td>...</td>\n",
       "      <td>...</td>\n",
       "      <td>...</td>\n",
       "      <td>...</td>\n",
       "      <td>...</td>\n",
       "      <td>...</td>\n",
       "      <td>...</td>\n",
       "      <td>...</td>\n",
       "      <td>...</td>\n",
       "      <td>...</td>\n",
       "      <td>...</td>\n",
       "      <td>...</td>\n",
       "      <td>...</td>\n",
       "      <td>...</td>\n",
       "      <td>...</td>\n",
       "      <td>...</td>\n",
       "      <td>...</td>\n",
       "      <td>...</td>\n",
       "    </tr>\n",
       "    <tr>\n",
       "      <th>7347</th>\n",
       "      <td>0.299665</td>\n",
       "      <td>-0.057193</td>\n",
       "      <td>-0.181233</td>\n",
       "      <td>-0.195387</td>\n",
       "      <td>-0.561607</td>\n",
       "      <td>-0.056751</td>\n",
       "      <td>-0.094106</td>\n",
       "      <td>-0.119821</td>\n",
       "      <td>0.293112</td>\n",
       "      <td>-0.425386</td>\n",
       "      <td>...</td>\n",
       "      <td>-0.897436</td>\n",
       "      <td>-0.170845</td>\n",
       "      <td>-0.904762</td>\n",
       "      <td>-0.070157</td>\n",
       "      <td>-0.588433</td>\n",
       "      <td>-0.190437</td>\n",
       "      <td>0.829718</td>\n",
       "      <td>0.206972</td>\n",
       "      <td>-0.425619</td>\n",
       "      <td>WALKING_UPSTAIRS</td>\n",
       "    </tr>\n",
       "    <tr>\n",
       "      <th>7348</th>\n",
       "      <td>0.273853</td>\n",
       "      <td>-0.007749</td>\n",
       "      <td>-0.147468</td>\n",
       "      <td>-0.235309</td>\n",
       "      <td>-0.361660</td>\n",
       "      <td>-0.154722</td>\n",
       "      <td>0.032725</td>\n",
       "      <td>0.034260</td>\n",
       "      <td>0.239835</td>\n",
       "      <td>-0.364480</td>\n",
       "      <td>...</td>\n",
       "      <td>-0.846154</td>\n",
       "      <td>0.019626</td>\n",
       "      <td>-0.904762</td>\n",
       "      <td>0.165259</td>\n",
       "      <td>-0.390738</td>\n",
       "      <td>0.064907</td>\n",
       "      <td>0.875679</td>\n",
       "      <td>-0.879033</td>\n",
       "      <td>0.400219</td>\n",
       "      <td>WALKING_UPSTAIRS</td>\n",
       "    </tr>\n",
       "    <tr>\n",
       "      <th>7349</th>\n",
       "      <td>0.273387</td>\n",
       "      <td>-0.017011</td>\n",
       "      <td>-0.045022</td>\n",
       "      <td>-0.218218</td>\n",
       "      <td>-0.376773</td>\n",
       "      <td>-0.017019</td>\n",
       "      <td>-0.004323</td>\n",
       "      <td>0.119962</td>\n",
       "      <td>0.080689</td>\n",
       "      <td>-0.420093</td>\n",
       "      <td>...</td>\n",
       "      <td>-0.846154</td>\n",
       "      <td>0.490169</td>\n",
       "      <td>-0.904762</td>\n",
       "      <td>0.195034</td>\n",
       "      <td>0.025145</td>\n",
       "      <td>0.052806</td>\n",
       "      <td>-0.266724</td>\n",
       "      <td>0.864404</td>\n",
       "      <td>0.701169</td>\n",
       "      <td>WALKING_UPSTAIRS</td>\n",
       "    </tr>\n",
       "    <tr>\n",
       "      <th>7350</th>\n",
       "      <td>0.289654</td>\n",
       "      <td>-0.018843</td>\n",
       "      <td>-0.158281</td>\n",
       "      <td>-0.219139</td>\n",
       "      <td>-0.475165</td>\n",
       "      <td>-0.038354</td>\n",
       "      <td>-0.277801</td>\n",
       "      <td>0.101761</td>\n",
       "      <td>-0.108375</td>\n",
       "      <td>-0.438356</td>\n",
       "      <td>...</td>\n",
       "      <td>-0.846154</td>\n",
       "      <td>0.308105</td>\n",
       "      <td>-0.904762</td>\n",
       "      <td>0.013865</td>\n",
       "      <td>0.063907</td>\n",
       "      <td>-0.101360</td>\n",
       "      <td>0.700740</td>\n",
       "      <td>0.936674</td>\n",
       "      <td>-0.589479</td>\n",
       "      <td>WALKING_UPSTAIRS</td>\n",
       "    </tr>\n",
       "    <tr>\n",
       "      <th>7351</th>\n",
       "      <td>0.351503</td>\n",
       "      <td>-0.012423</td>\n",
       "      <td>-0.203867</td>\n",
       "      <td>-0.269270</td>\n",
       "      <td>-0.442905</td>\n",
       "      <td>0.139282</td>\n",
       "      <td>-0.446446</td>\n",
       "      <td>-0.156435</td>\n",
       "      <td>0.097870</td>\n",
       "      <td>-0.405691</td>\n",
       "      <td>...</td>\n",
       "      <td>-0.846154</td>\n",
       "      <td>-0.057581</td>\n",
       "      <td>-0.904762</td>\n",
       "      <td>-0.058402</td>\n",
       "      <td>-0.387052</td>\n",
       "      <td>-0.280088</td>\n",
       "      <td>-0.007739</td>\n",
       "      <td>-0.056088</td>\n",
       "      <td>-0.616956</td>\n",
       "      <td>WALKING_UPSTAIRS</td>\n",
       "    </tr>\n",
       "  </tbody>\n",
       "</table>\n",
       "<p>7352 rows × 146 columns</p>\n",
       "</div>"
      ],
      "text/plain": [
       "      tBodyAcc-mean()-X  tBodyAcc-mean()-Y  tBodyAcc-mean()-Z  \\\n",
       "0              0.288585          -0.020294          -0.132905   \n",
       "1              0.278419          -0.016411          -0.123520   \n",
       "2              0.279653          -0.019467          -0.113462   \n",
       "3              0.279174          -0.026201          -0.123283   \n",
       "4              0.276629          -0.016570          -0.115362   \n",
       "...                 ...                ...                ...   \n",
       "7347           0.299665          -0.057193          -0.181233   \n",
       "7348           0.273853          -0.007749          -0.147468   \n",
       "7349           0.273387          -0.017011          -0.045022   \n",
       "7350           0.289654          -0.018843          -0.158281   \n",
       "7351           0.351503          -0.012423          -0.203867   \n",
       "\n",
       "      tBodyAcc-std()-X  tBodyAcc-arCoeff()-X,1  tBodyAcc-arCoeff()-X,4  \\\n",
       "0            -0.995279                0.929294               -0.058526   \n",
       "1            -0.998245                0.611627                0.284595   \n",
       "2            -0.995380                0.273025               -0.164739   \n",
       "3            -0.996091                0.061436               -0.264307   \n",
       "4            -0.998139                0.313276                0.086904   \n",
       "...                ...                     ...                     ...   \n",
       "7347         -0.195387               -0.561607               -0.056751   \n",
       "7348         -0.235309               -0.361660               -0.154722   \n",
       "7349         -0.218218               -0.376773               -0.017019   \n",
       "7350         -0.219139               -0.475165               -0.038354   \n",
       "7351         -0.269270               -0.442905                0.139282   \n",
       "\n",
       "      tBodyAcc-arCoeff()-Y,1  tBodyAcc-arCoeff()-Y,3  tBodyAcc-arCoeff()-Y,4  \\\n",
       "0                   0.256892                0.264106               -0.095246   \n",
       "1                   0.115705                0.294310               -0.281211   \n",
       "2                   0.017150                0.342256               -0.332564   \n",
       "3                   0.072545                0.323154               -0.170813   \n",
       "4                   0.257615                0.434728               -0.315375   \n",
       "...                      ...                     ...                     ...   \n",
       "7347               -0.094106               -0.119821                0.293112   \n",
       "7348                0.032725                0.034260                0.239835   \n",
       "7349               -0.004323                0.119962                0.080689   \n",
       "7350               -0.277801                0.101761               -0.108375   \n",
       "7351               -0.446446               -0.156435                0.097870   \n",
       "\n",
       "      tBodyAcc-arCoeff()-Z,1  ...  fBodyBodyGyroMag-maxInds  \\\n",
       "0                   0.278851  ...                 -1.000000   \n",
       "1                   0.085988  ...                 -0.948718   \n",
       "2                   0.239281  ...                 -0.794872   \n",
       "3                   0.294938  ...                 -1.000000   \n",
       "4                   0.439744  ...                 -0.897436   \n",
       "...                      ...  ...                       ...   \n",
       "7347               -0.425386  ...                 -0.897436   \n",
       "7348               -0.364480  ...                 -0.846154   \n",
       "7349               -0.420093  ...                 -0.846154   \n",
       "7350               -0.438356  ...                 -0.846154   \n",
       "7351               -0.405691  ...                 -0.846154   \n",
       "\n",
       "      fBodyBodyGyroMag-skewness()  fBodyBodyGyroJerkMag-maxInds  \\\n",
       "0                        0.586156                     -1.000000   \n",
       "1                       -0.336310                     -1.000000   \n",
       "2                       -0.535352                     -0.555556   \n",
       "3                       -0.230091                     -0.936508   \n",
       "4                       -0.510282                     -0.936508   \n",
       "...                           ...                           ...   \n",
       "7347                    -0.170845                     -0.904762   \n",
       "7348                     0.019626                     -0.904762   \n",
       "7349                     0.490169                     -0.904762   \n",
       "7350                     0.308105                     -0.904762   \n",
       "7351                    -0.057581                     -0.904762   \n",
       "\n",
       "      fBodyBodyGyroJerkMag-meanFreq()  fBodyBodyGyroJerkMag-skewness()  \\\n",
       "0                           -0.074323                        -0.298676   \n",
       "1                            0.158075                        -0.595051   \n",
       "2                            0.414503                        -0.390748   \n",
       "3                            0.404573                        -0.117290   \n",
       "4                            0.087753                        -0.351471   \n",
       "...                               ...                              ...   \n",
       "7347                        -0.070157                        -0.588433   \n",
       "7348                         0.165259                        -0.390738   \n",
       "7349                         0.195034                         0.025145   \n",
       "7350                         0.013865                         0.063907   \n",
       "7351                        -0.058402                        -0.387052   \n",
       "\n",
       "      angle(tBodyAccMean,gravity)  angle(tBodyAccJerkMean),gravityMean)  \\\n",
       "0                       -0.112754                              0.030400   \n",
       "1                        0.053477                             -0.007435   \n",
       "2                       -0.118559                              0.177899   \n",
       "3                       -0.036788                             -0.012892   \n",
       "4                        0.123320                              0.122542   \n",
       "...                           ...                                   ...   \n",
       "7347                    -0.190437                              0.829718   \n",
       "7348                     0.064907                              0.875679   \n",
       "7349                     0.052806                             -0.266724   \n",
       "7350                    -0.101360                              0.700740   \n",
       "7351                    -0.280088                             -0.007739   \n",
       "\n",
       "      angle(tBodyGyroMean,gravityMean)  angle(tBodyGyroJerkMean,gravityMean)  \\\n",
       "0                            -0.464761                             -0.018446   \n",
       "1                            -0.732626                              0.703511   \n",
       "2                             0.100699                              0.808529   \n",
       "3                             0.640011                             -0.485366   \n",
       "4                             0.693578                             -0.615971   \n",
       "...                                ...                                   ...   \n",
       "7347                          0.206972                             -0.425619   \n",
       "7348                         -0.879033                              0.400219   \n",
       "7349                          0.864404                              0.701169   \n",
       "7350                          0.936674                             -0.589479   \n",
       "7351                         -0.056088                             -0.616956   \n",
       "\n",
       "              Activity  \n",
       "0             STANDING  \n",
       "1             STANDING  \n",
       "2             STANDING  \n",
       "3             STANDING  \n",
       "4             STANDING  \n",
       "...                ...  \n",
       "7347  WALKING_UPSTAIRS  \n",
       "7348  WALKING_UPSTAIRS  \n",
       "7349  WALKING_UPSTAIRS  \n",
       "7350  WALKING_UPSTAIRS  \n",
       "7351  WALKING_UPSTAIRS  \n",
       "\n",
       "[7352 rows x 146 columns]"
      ]
     },
     "execution_count": 5,
     "metadata": {},
     "output_type": "execute_result"
    }
   ],
   "source": [
    "new_df = new_df.drop(new_df[['subject']],axis = 1)\n",
    "new_df"
   ]
  },
  {
   "cell_type": "markdown",
   "id": "5d6bb07b",
   "metadata": {
    "id": "5d6bb07b"
   },
   "source": [
    "## Split Predictor and Target Varaibles"
   ]
  },
  {
   "cell_type": "code",
   "execution_count": 6,
   "id": "583f1548",
   "metadata": {
    "colab": {
     "base_uri": "https://localhost:8080/"
    },
    "id": "583f1548",
    "outputId": "e986e080-c914-4ed0-a335-7f61e4ca6714"
   },
   "outputs": [
    {
     "data": {
      "text/plain": [
       "0       WALKING_UPSTAIRS\n",
       "1       WALKING_UPSTAIRS\n",
       "2               STANDING\n",
       "3                SITTING\n",
       "4                SITTING\n",
       "              ...       \n",
       "7347    WALKING_UPSTAIRS\n",
       "7348              LAYING\n",
       "7349            STANDING\n",
       "7350             SITTING\n",
       "7351             WALKING\n",
       "Name: Activity, Length: 7352, dtype: object"
      ]
     },
     "execution_count": 6,
     "metadata": {},
     "output_type": "execute_result"
    }
   ],
   "source": [
    "new_df_shuffled=new_df.sample(frac=1).reset_index(drop=True)\n",
    "new_df_shuffled\n",
    "target = new_df_shuffled['Activity']\n",
    "target"
   ]
  },
  {
   "cell_type": "markdown",
   "id": "33971312",
   "metadata": {},
   "source": [
    "Shuffling is required in order to avoid class exclusion in the training and testing dataset"
   ]
  },
  {
   "cell_type": "code",
   "execution_count": 7,
   "id": "ffb9b880",
   "metadata": {
    "colab": {
     "base_uri": "https://localhost:8080/",
     "height": 522
    },
    "id": "ffb9b880",
    "outputId": "6cfc9938-e51d-423b-a184-73b4c110c82e"
   },
   "outputs": [
    {
     "data": {
      "text/html": [
       "<div>\n",
       "<style scoped>\n",
       "    .dataframe tbody tr th:only-of-type {\n",
       "        vertical-align: middle;\n",
       "    }\n",
       "\n",
       "    .dataframe tbody tr th {\n",
       "        vertical-align: top;\n",
       "    }\n",
       "\n",
       "    .dataframe thead th {\n",
       "        text-align: right;\n",
       "    }\n",
       "</style>\n",
       "<table border=\"1\" class=\"dataframe\">\n",
       "  <thead>\n",
       "    <tr style=\"text-align: right;\">\n",
       "      <th></th>\n",
       "      <th>tBodyAcc-mean()-X</th>\n",
       "      <th>tBodyAcc-mean()-Y</th>\n",
       "      <th>tBodyAcc-mean()-Z</th>\n",
       "      <th>tBodyAcc-std()-X</th>\n",
       "      <th>tBodyAcc-arCoeff()-X,1</th>\n",
       "      <th>tBodyAcc-arCoeff()-X,4</th>\n",
       "      <th>tBodyAcc-arCoeff()-Y,1</th>\n",
       "      <th>tBodyAcc-arCoeff()-Y,3</th>\n",
       "      <th>tBodyAcc-arCoeff()-Y,4</th>\n",
       "      <th>tBodyAcc-arCoeff()-Z,1</th>\n",
       "      <th>...</th>\n",
       "      <th>fBodyBodyGyroMag-min()</th>\n",
       "      <th>fBodyBodyGyroMag-maxInds</th>\n",
       "      <th>fBodyBodyGyroMag-skewness()</th>\n",
       "      <th>fBodyBodyGyroJerkMag-maxInds</th>\n",
       "      <th>fBodyBodyGyroJerkMag-meanFreq()</th>\n",
       "      <th>fBodyBodyGyroJerkMag-skewness()</th>\n",
       "      <th>angle(tBodyAccMean,gravity)</th>\n",
       "      <th>angle(tBodyAccJerkMean),gravityMean)</th>\n",
       "      <th>angle(tBodyGyroMean,gravityMean)</th>\n",
       "      <th>angle(tBodyGyroJerkMean,gravityMean)</th>\n",
       "    </tr>\n",
       "  </thead>\n",
       "  <tbody>\n",
       "    <tr>\n",
       "      <th>0</th>\n",
       "      <td>0.194867</td>\n",
       "      <td>0.005240</td>\n",
       "      <td>-0.148642</td>\n",
       "      <td>-0.248229</td>\n",
       "      <td>-0.503322</td>\n",
       "      <td>0.253243</td>\n",
       "      <td>-0.411673</td>\n",
       "      <td>-0.195599</td>\n",
       "      <td>0.235627</td>\n",
       "      <td>-0.403223</td>\n",
       "      <td>...</td>\n",
       "      <td>-0.815741</td>\n",
       "      <td>-0.846154</td>\n",
       "      <td>-0.109966</td>\n",
       "      <td>-0.968254</td>\n",
       "      <td>-0.178301</td>\n",
       "      <td>-0.595599</td>\n",
       "      <td>0.566104</td>\n",
       "      <td>-0.627754</td>\n",
       "      <td>0.435882</td>\n",
       "      <td>0.265142</td>\n",
       "    </tr>\n",
       "    <tr>\n",
       "      <th>1</th>\n",
       "      <td>0.152418</td>\n",
       "      <td>-0.013601</td>\n",
       "      <td>-0.108788</td>\n",
       "      <td>-0.383088</td>\n",
       "      <td>-0.603644</td>\n",
       "      <td>0.260030</td>\n",
       "      <td>-0.364452</td>\n",
       "      <td>-0.058551</td>\n",
       "      <td>-0.055969</td>\n",
       "      <td>-0.761860</td>\n",
       "      <td>...</td>\n",
       "      <td>-0.690901</td>\n",
       "      <td>-0.846154</td>\n",
       "      <td>-0.152868</td>\n",
       "      <td>-0.904762</td>\n",
       "      <td>-0.049508</td>\n",
       "      <td>-0.379387</td>\n",
       "      <td>0.694499</td>\n",
       "      <td>-0.107402</td>\n",
       "      <td>0.934983</td>\n",
       "      <td>-0.386551</td>\n",
       "    </tr>\n",
       "    <tr>\n",
       "      <th>2</th>\n",
       "      <td>0.303895</td>\n",
       "      <td>-0.008799</td>\n",
       "      <td>-0.072297</td>\n",
       "      <td>-0.988837</td>\n",
       "      <td>0.050800</td>\n",
       "      <td>-0.109533</td>\n",
       "      <td>-0.215694</td>\n",
       "      <td>-0.026711</td>\n",
       "      <td>0.168744</td>\n",
       "      <td>-0.142150</td>\n",
       "      <td>...</td>\n",
       "      <td>-0.988742</td>\n",
       "      <td>-1.000000</td>\n",
       "      <td>0.137060</td>\n",
       "      <td>-1.000000</td>\n",
       "      <td>-0.126406</td>\n",
       "      <td>0.005000</td>\n",
       "      <td>0.012481</td>\n",
       "      <td>0.217165</td>\n",
       "      <td>-0.884383</td>\n",
       "      <td>0.889698</td>\n",
       "    </tr>\n",
       "    <tr>\n",
       "      <th>3</th>\n",
       "      <td>0.277415</td>\n",
       "      <td>-0.020079</td>\n",
       "      <td>-0.103354</td>\n",
       "      <td>-0.993947</td>\n",
       "      <td>0.165104</td>\n",
       "      <td>0.259351</td>\n",
       "      <td>0.142693</td>\n",
       "      <td>0.305290</td>\n",
       "      <td>-0.175596</td>\n",
       "      <td>0.124254</td>\n",
       "      <td>...</td>\n",
       "      <td>-0.995179</td>\n",
       "      <td>-0.897436</td>\n",
       "      <td>-0.490688</td>\n",
       "      <td>-1.000000</td>\n",
       "      <td>0.247958</td>\n",
       "      <td>-0.387659</td>\n",
       "      <td>-0.050972</td>\n",
       "      <td>-0.227317</td>\n",
       "      <td>-0.261269</td>\n",
       "      <td>-0.251444</td>\n",
       "    </tr>\n",
       "    <tr>\n",
       "      <th>4</th>\n",
       "      <td>0.276051</td>\n",
       "      <td>-0.013733</td>\n",
       "      <td>-0.095749</td>\n",
       "      <td>-0.998922</td>\n",
       "      <td>0.324619</td>\n",
       "      <td>-0.084472</td>\n",
       "      <td>0.126858</td>\n",
       "      <td>0.283821</td>\n",
       "      <td>-0.245798</td>\n",
       "      <td>0.165777</td>\n",
       "      <td>...</td>\n",
       "      <td>-0.997886</td>\n",
       "      <td>-1.000000</td>\n",
       "      <td>-0.150224</td>\n",
       "      <td>-0.714286</td>\n",
       "      <td>0.733301</td>\n",
       "      <td>-0.743342</td>\n",
       "      <td>0.022586</td>\n",
       "      <td>-0.101890</td>\n",
       "      <td>0.208852</td>\n",
       "      <td>0.570727</td>\n",
       "    </tr>\n",
       "    <tr>\n",
       "      <th>...</th>\n",
       "      <td>...</td>\n",
       "      <td>...</td>\n",
       "      <td>...</td>\n",
       "      <td>...</td>\n",
       "      <td>...</td>\n",
       "      <td>...</td>\n",
       "      <td>...</td>\n",
       "      <td>...</td>\n",
       "      <td>...</td>\n",
       "      <td>...</td>\n",
       "      <td>...</td>\n",
       "      <td>...</td>\n",
       "      <td>...</td>\n",
       "      <td>...</td>\n",
       "      <td>...</td>\n",
       "      <td>...</td>\n",
       "      <td>...</td>\n",
       "      <td>...</td>\n",
       "      <td>...</td>\n",
       "      <td>...</td>\n",
       "      <td>...</td>\n",
       "    </tr>\n",
       "    <tr>\n",
       "      <th>7347</th>\n",
       "      <td>0.359518</td>\n",
       "      <td>-0.016890</td>\n",
       "      <td>-0.077857</td>\n",
       "      <td>-0.279023</td>\n",
       "      <td>-0.324495</td>\n",
       "      <td>0.156242</td>\n",
       "      <td>-0.107176</td>\n",
       "      <td>0.168368</td>\n",
       "      <td>-0.023733</td>\n",
       "      <td>-0.179248</td>\n",
       "      <td>...</td>\n",
       "      <td>-0.887988</td>\n",
       "      <td>-0.948718</td>\n",
       "      <td>-0.240693</td>\n",
       "      <td>-0.904762</td>\n",
       "      <td>0.221643</td>\n",
       "      <td>-0.554102</td>\n",
       "      <td>-0.487089</td>\n",
       "      <td>0.826768</td>\n",
       "      <td>-0.712479</td>\n",
       "      <td>0.681961</td>\n",
       "    </tr>\n",
       "    <tr>\n",
       "      <th>7348</th>\n",
       "      <td>0.277909</td>\n",
       "      <td>-0.016479</td>\n",
       "      <td>-0.109866</td>\n",
       "      <td>-0.990494</td>\n",
       "      <td>0.033933</td>\n",
       "      <td>0.307533</td>\n",
       "      <td>0.246656</td>\n",
       "      <td>0.081708</td>\n",
       "      <td>0.429488</td>\n",
       "      <td>0.177910</td>\n",
       "      <td>...</td>\n",
       "      <td>-0.997632</td>\n",
       "      <td>-1.000000</td>\n",
       "      <td>-0.392010</td>\n",
       "      <td>-1.000000</td>\n",
       "      <td>-0.138512</td>\n",
       "      <td>-0.335424</td>\n",
       "      <td>-0.359332</td>\n",
       "      <td>-0.065855</td>\n",
       "      <td>0.288838</td>\n",
       "      <td>-0.196364</td>\n",
       "    </tr>\n",
       "    <tr>\n",
       "      <th>7349</th>\n",
       "      <td>0.280142</td>\n",
       "      <td>-0.013232</td>\n",
       "      <td>-0.107645</td>\n",
       "      <td>-0.997007</td>\n",
       "      <td>0.125903</td>\n",
       "      <td>0.304859</td>\n",
       "      <td>-0.185398</td>\n",
       "      <td>-0.210376</td>\n",
       "      <td>0.548652</td>\n",
       "      <td>0.124299</td>\n",
       "      <td>...</td>\n",
       "      <td>-0.968709</td>\n",
       "      <td>-1.000000</td>\n",
       "      <td>-0.237562</td>\n",
       "      <td>-0.936508</td>\n",
       "      <td>-0.065614</td>\n",
       "      <td>-0.520383</td>\n",
       "      <td>-0.010668</td>\n",
       "      <td>0.100817</td>\n",
       "      <td>-0.155080</td>\n",
       "      <td>-0.734500</td>\n",
       "    </tr>\n",
       "    <tr>\n",
       "      <th>7350</th>\n",
       "      <td>0.275465</td>\n",
       "      <td>-0.007687</td>\n",
       "      <td>-0.089049</td>\n",
       "      <td>-0.996788</td>\n",
       "      <td>0.325564</td>\n",
       "      <td>0.051237</td>\n",
       "      <td>-0.069927</td>\n",
       "      <td>-0.101236</td>\n",
       "      <td>0.101055</td>\n",
       "      <td>0.132462</td>\n",
       "      <td>...</td>\n",
       "      <td>-0.991195</td>\n",
       "      <td>-0.948718</td>\n",
       "      <td>-0.483195</td>\n",
       "      <td>-0.968254</td>\n",
       "      <td>0.165080</td>\n",
       "      <td>-0.187510</td>\n",
       "      <td>0.063827</td>\n",
       "      <td>0.018399</td>\n",
       "      <td>0.167838</td>\n",
       "      <td>0.292683</td>\n",
       "    </tr>\n",
       "    <tr>\n",
       "      <th>7351</th>\n",
       "      <td>0.243779</td>\n",
       "      <td>-0.006489</td>\n",
       "      <td>-0.157681</td>\n",
       "      <td>-0.373686</td>\n",
       "      <td>-0.084401</td>\n",
       "      <td>0.059730</td>\n",
       "      <td>0.184234</td>\n",
       "      <td>0.555536</td>\n",
       "      <td>-0.491175</td>\n",
       "      <td>-0.041418</td>\n",
       "      <td>...</td>\n",
       "      <td>-0.739729</td>\n",
       "      <td>-0.948718</td>\n",
       "      <td>-0.299737</td>\n",
       "      <td>-0.904762</td>\n",
       "      <td>0.047279</td>\n",
       "      <td>-0.390760</td>\n",
       "      <td>0.154137</td>\n",
       "      <td>0.382642</td>\n",
       "      <td>0.879492</td>\n",
       "      <td>0.215704</td>\n",
       "    </tr>\n",
       "  </tbody>\n",
       "</table>\n",
       "<p>7352 rows × 145 columns</p>\n",
       "</div>"
      ],
      "text/plain": [
       "      tBodyAcc-mean()-X  tBodyAcc-mean()-Y  tBodyAcc-mean()-Z  \\\n",
       "0              0.194867           0.005240          -0.148642   \n",
       "1              0.152418          -0.013601          -0.108788   \n",
       "2              0.303895          -0.008799          -0.072297   \n",
       "3              0.277415          -0.020079          -0.103354   \n",
       "4              0.276051          -0.013733          -0.095749   \n",
       "...                 ...                ...                ...   \n",
       "7347           0.359518          -0.016890          -0.077857   \n",
       "7348           0.277909          -0.016479          -0.109866   \n",
       "7349           0.280142          -0.013232          -0.107645   \n",
       "7350           0.275465          -0.007687          -0.089049   \n",
       "7351           0.243779          -0.006489          -0.157681   \n",
       "\n",
       "      tBodyAcc-std()-X  tBodyAcc-arCoeff()-X,1  tBodyAcc-arCoeff()-X,4  \\\n",
       "0            -0.248229               -0.503322                0.253243   \n",
       "1            -0.383088               -0.603644                0.260030   \n",
       "2            -0.988837                0.050800               -0.109533   \n",
       "3            -0.993947                0.165104                0.259351   \n",
       "4            -0.998922                0.324619               -0.084472   \n",
       "...                ...                     ...                     ...   \n",
       "7347         -0.279023               -0.324495                0.156242   \n",
       "7348         -0.990494                0.033933                0.307533   \n",
       "7349         -0.997007                0.125903                0.304859   \n",
       "7350         -0.996788                0.325564                0.051237   \n",
       "7351         -0.373686               -0.084401                0.059730   \n",
       "\n",
       "      tBodyAcc-arCoeff()-Y,1  tBodyAcc-arCoeff()-Y,3  tBodyAcc-arCoeff()-Y,4  \\\n",
       "0                  -0.411673               -0.195599                0.235627   \n",
       "1                  -0.364452               -0.058551               -0.055969   \n",
       "2                  -0.215694               -0.026711                0.168744   \n",
       "3                   0.142693                0.305290               -0.175596   \n",
       "4                   0.126858                0.283821               -0.245798   \n",
       "...                      ...                     ...                     ...   \n",
       "7347               -0.107176                0.168368               -0.023733   \n",
       "7348                0.246656                0.081708                0.429488   \n",
       "7349               -0.185398               -0.210376                0.548652   \n",
       "7350               -0.069927               -0.101236                0.101055   \n",
       "7351                0.184234                0.555536               -0.491175   \n",
       "\n",
       "      tBodyAcc-arCoeff()-Z,1  ...  fBodyBodyGyroMag-min()  \\\n",
       "0                  -0.403223  ...               -0.815741   \n",
       "1                  -0.761860  ...               -0.690901   \n",
       "2                  -0.142150  ...               -0.988742   \n",
       "3                   0.124254  ...               -0.995179   \n",
       "4                   0.165777  ...               -0.997886   \n",
       "...                      ...  ...                     ...   \n",
       "7347               -0.179248  ...               -0.887988   \n",
       "7348                0.177910  ...               -0.997632   \n",
       "7349                0.124299  ...               -0.968709   \n",
       "7350                0.132462  ...               -0.991195   \n",
       "7351               -0.041418  ...               -0.739729   \n",
       "\n",
       "      fBodyBodyGyroMag-maxInds  fBodyBodyGyroMag-skewness()  \\\n",
       "0                    -0.846154                    -0.109966   \n",
       "1                    -0.846154                    -0.152868   \n",
       "2                    -1.000000                     0.137060   \n",
       "3                    -0.897436                    -0.490688   \n",
       "4                    -1.000000                    -0.150224   \n",
       "...                        ...                          ...   \n",
       "7347                 -0.948718                    -0.240693   \n",
       "7348                 -1.000000                    -0.392010   \n",
       "7349                 -1.000000                    -0.237562   \n",
       "7350                 -0.948718                    -0.483195   \n",
       "7351                 -0.948718                    -0.299737   \n",
       "\n",
       "      fBodyBodyGyroJerkMag-maxInds  fBodyBodyGyroJerkMag-meanFreq()  \\\n",
       "0                        -0.968254                        -0.178301   \n",
       "1                        -0.904762                        -0.049508   \n",
       "2                        -1.000000                        -0.126406   \n",
       "3                        -1.000000                         0.247958   \n",
       "4                        -0.714286                         0.733301   \n",
       "...                            ...                              ...   \n",
       "7347                     -0.904762                         0.221643   \n",
       "7348                     -1.000000                        -0.138512   \n",
       "7349                     -0.936508                        -0.065614   \n",
       "7350                     -0.968254                         0.165080   \n",
       "7351                     -0.904762                         0.047279   \n",
       "\n",
       "      fBodyBodyGyroJerkMag-skewness()  angle(tBodyAccMean,gravity)  \\\n",
       "0                           -0.595599                     0.566104   \n",
       "1                           -0.379387                     0.694499   \n",
       "2                            0.005000                     0.012481   \n",
       "3                           -0.387659                    -0.050972   \n",
       "4                           -0.743342                     0.022586   \n",
       "...                               ...                          ...   \n",
       "7347                        -0.554102                    -0.487089   \n",
       "7348                        -0.335424                    -0.359332   \n",
       "7349                        -0.520383                    -0.010668   \n",
       "7350                        -0.187510                     0.063827   \n",
       "7351                        -0.390760                     0.154137   \n",
       "\n",
       "      angle(tBodyAccJerkMean),gravityMean)  angle(tBodyGyroMean,gravityMean)  \\\n",
       "0                                -0.627754                          0.435882   \n",
       "1                                -0.107402                          0.934983   \n",
       "2                                 0.217165                         -0.884383   \n",
       "3                                -0.227317                         -0.261269   \n",
       "4                                -0.101890                          0.208852   \n",
       "...                                    ...                               ...   \n",
       "7347                              0.826768                         -0.712479   \n",
       "7348                             -0.065855                          0.288838   \n",
       "7349                              0.100817                         -0.155080   \n",
       "7350                              0.018399                          0.167838   \n",
       "7351                              0.382642                          0.879492   \n",
       "\n",
       "      angle(tBodyGyroJerkMean,gravityMean)  \n",
       "0                                 0.265142  \n",
       "1                                -0.386551  \n",
       "2                                 0.889698  \n",
       "3                                -0.251444  \n",
       "4                                 0.570727  \n",
       "...                                    ...  \n",
       "7347                              0.681961  \n",
       "7348                             -0.196364  \n",
       "7349                             -0.734500  \n",
       "7350                              0.292683  \n",
       "7351                              0.215704  \n",
       "\n",
       "[7352 rows x 145 columns]"
      ]
     },
     "execution_count": 7,
     "metadata": {},
     "output_type": "execute_result"
    }
   ],
   "source": [
    "new_df = new_df_shuffled.drop(new_df_shuffled[['Activity']],axis = 1)\n",
    "new_df"
   ]
  },
  {
   "cell_type": "markdown",
   "id": "9ace9841",
   "metadata": {},
   "source": [
    "New DataFrame (new_df) is the feature vector space and target is the alleged class output"
   ]
  },
  {
   "cell_type": "markdown",
   "id": "42429766",
   "metadata": {
    "id": "42429766"
   },
   "source": [
    "## Split Training and Testing Data Set"
   ]
  },
  {
   "cell_type": "markdown",
   "id": "2054b520",
   "metadata": {
    "id": "fmP3kQUDRQi_"
   },
   "source": [
    "#### With less training data the parameters estimates high variance. On the other hand, less testing data leads to high variance on performance measure.\n",
    "#### And thus we used 78:22 split of the dataset because of its flexibility in giving good size of testing data and training data which minimizes the variance on performance measure. \n",
    "#### Also shuffling the data helps with non-clustering of the target variables\n",
    "#### We came to this solution by running experimentation on our models with different train size from 0.60 to 0.95."
   ]
  },
  {
   "cell_type": "code",
   "execution_count": 8,
   "id": "35eabe38",
   "metadata": {
    "id": "35eabe38"
   },
   "outputs": [],
   "source": [
    "train_x,test_x,train_y,test_y = train_test_split(new_df,target,train_size = 0.78,random_state = 42)"
   ]
  },
  {
   "cell_type": "markdown",
   "id": "95e2e290",
   "metadata": {
    "id": "95e2e290"
   },
   "source": [
    "## Standardize the Variables"
   ]
  },
  {
   "cell_type": "code",
   "execution_count": 9,
   "id": "7d7297e5",
   "metadata": {
    "id": "7d7297e5"
   },
   "outputs": [],
   "source": [
    "train_x = StandardScaler().fit_transform(train_x)\n",
    "test_x = StandardScaler().fit_transform(test_x)"
   ]
  },
  {
   "cell_type": "markdown",
   "id": "e33c7e79",
   "metadata": {},
   "source": [
    "Standardized data:\n",
    "Standarized_X = (X - mean(X))/ std(X)"
   ]
  },
  {
   "cell_type": "markdown",
   "id": "c6bd7e08",
   "metadata": {
    "id": "c6bd7e08"
   },
   "source": [
    "# Train Model using different variations of NB [Marks:2+1]\n",
    "**Breifly describe & Justify why one of the variant performed better compared to others**"
   ]
  },
  {
   "cell_type": "code",
   "execution_count": 10,
   "id": "c54e4440",
   "metadata": {
    "colab": {
     "base_uri": "https://localhost:8080/"
    },
    "id": "c54e4440",
    "outputId": "851999ff-fbe3-4d3a-c715-758a03acd30d"
   },
   "outputs": [
    {
     "name": "stdout",
     "output_type": "stream",
     "text": [
      "Time = 0.06839179992675781 sec\n",
      "Accuracy = 0.7608158220024722\n"
     ]
    }
   ],
   "source": [
    "# Gaussian Naive Bayes\n",
    "gnb = GaussianNB()\n",
    "begin = time.time()\n",
    "y_pred_gnb = gnb.fit(train_x,train_y).predict(test_x)\n",
    "end = time.time()\n",
    "Gauss_time =  begin - end\n",
    "print(\"Time = \" + str(end - begin) + \" sec\")\n",
    "print(\"Accuracy = \" + str(accuracy_score(test_y, y_pred_gnb)))"
   ]
  },
  {
   "cell_type": "code",
   "execution_count": 11,
   "id": "55dc8340",
   "metadata": {
    "colab": {
     "base_uri": "https://localhost:8080/"
    },
    "id": "55dc8340",
    "outputId": "a67e41c3-ddbc-4d62-b557-9349db969d4c"
   },
   "outputs": [
    {
     "name": "stdout",
     "output_type": "stream",
     "text": [
      "Time = 0.06400799751281738 sec\n",
      "Accuracy = 0.8374536464771323\n"
     ]
    }
   ],
   "source": [
    "# Bernoulli Naive Bayes\n",
    "cmb = BernoulliNB()\n",
    "begin = time.time()\n",
    "y_pred_cmb = cmb.fit(train_x,train_y).predict(test_x)\n",
    "end = time.time()\n",
    "Bernoulli_time =  begin - end \n",
    "print(\"Time = \" + str(end - begin) + \" sec\")\n",
    "print(\"Accuracy = \" + str(accuracy_score(test_y, y_pred_cmb)))"
   ]
  },
  {
   "cell_type": "markdown",
   "id": "97be1b74",
   "metadata": {
    "id": "w77UARhfDFMg"
   },
   "source": [
    "#### Gaussian Distribution performed better compared to the Bernoulli algorithm is because Gaussian uses the Gaussian Distribution for building the model and our data\n",
    "#### after standardising ( In the earlier code ) works closer to Gaussian distribution and hence we obtain better results."
   ]
  },
  {
   "cell_type": "markdown",
   "id": "bb30ac66",
   "metadata": {
    "id": "bb30ac66"
   },
   "source": [
    "# Compare time and accuracy of different NB algos [Marks:0.5]"
   ]
  },
  {
   "cell_type": "markdown",
   "id": "dbfd17a4",
   "metadata": {
    "id": "8b6b10af"
   },
   "source": [
    "#### Time for Gaussian was lesser than that for Bernoulli, as well as accuracy for Gaussian was better.\n",
    "#### As from the output we can see the time and the accuracy for the Gaussian naive bayes algorithm is better by a good amount of difference\n",
    "#### We couldnt use other naive bayes algorithm because categorical, complement and multinomial algorithm uses either binary inputs or cannot accept negative values for the same"
   ]
  },
  {
   "cell_type": "markdown",
   "id": "e89ad9dc",
   "metadata": {
    "id": "e89ad9dc"
   },
   "source": [
    "# Train Model with Logistic Regression with different solver and penalty [Marks:2+1]\n",
    "**Justify why one of the solver or penalty performed better compared to others**"
   ]
  },
  {
   "cell_type": "markdown",
   "id": "24f45f2e",
   "metadata": {
    "id": "uQAuZafoOBf-"
   },
   "source": [
    "#### there are three types of penalities supported by the LogistticRegressor , which are L1, L2 ans ElasticNet. \n",
    "#### L2 is default choice which is automatically implemented by sklearn if nothing is mentioned as the penalty parameter.\n",
    "#### lbfgs, newton-cg, liblinear, saga are the three types of solvers used.\n",
    "#### lbfgs and newton-cg use L2 regularization or none.\n",
    "#### Where as, liblinear can use both l1 and l2 penalty.\n",
    "#### Saga solver uses elasticNet as its penalty. "
   ]
  },
  {
   "cell_type": "code",
   "execution_count": 12,
   "id": "a276d9d5",
   "metadata": {
    "colab": {
     "base_uri": "https://localhost:8080/"
    },
    "id": "a276d9d5",
    "outputId": "be1a6103-4110-44e9-b6fa-5c8a7d851c27"
   },
   "outputs": [
    {
     "name": "stdout",
     "output_type": "stream",
     "text": [
      "Time = 0.5105669498443604 sec\n",
      "Accuracy = 0.9752781211372065\n"
     ]
    },
    {
     "name": "stderr",
     "output_type": "stream",
     "text": [
      "/Library/Frameworks/Python.framework/Versions/3.9/lib/python3.9/site-packages/sklearn/linear_model/_logistic.py:763: ConvergenceWarning: lbfgs failed to converge (status=1):\n",
      "STOP: TOTAL NO. of ITERATIONS REACHED LIMIT.\n",
      "\n",
      "Increase the number of iterations (max_iter) or scale the data as shown in:\n",
      "    https://scikit-learn.org/stable/modules/preprocessing.html\n",
      "Please also refer to the documentation for alternative solver options:\n",
      "    https://scikit-learn.org/stable/modules/linear_model.html#logistic-regression\n",
      "  n_iter_i = _check_optimize_result(\n"
     ]
    }
   ],
   "source": [
    "begin = time.time()\n",
    "clf = LogisticRegression(multi_class = \"multinomial\", solver = \"lbfgs\", random_state=0, penalty=\"l2\").fit(train_x, train_y)\n",
    "end = time.time()\n",
    "print(\"Time = \" + str(end - begin) + \" sec\")\n",
    "y_pred_logistic_ls = clf.predict(test_x)\n",
    "print(\"Accuracy = \" + str(accuracy_score(test_y, y_pred_logistic_ls)))"
   ]
  },
  {
   "cell_type": "code",
   "execution_count": 13,
   "id": "f392e501",
   "metadata": {
    "colab": {
     "base_uri": "https://localhost:8080/"
    },
    "id": "f392e501",
    "outputId": "a24ba959-982d-44d7-e144-c62cc47dff09"
   },
   "outputs": [
    {
     "name": "stdout",
     "output_type": "stream",
     "text": [
      "Time = 1.4173469543457031 sec\n",
      "Accuracy = 0.9796044499381953\n"
     ]
    }
   ],
   "source": [
    "from sklearn.linear_model import LogisticRegression\n",
    "begin = time.time()\n",
    "clf = LogisticRegression(solver = \"liblinear\", random_state=0, penalty=\"l2\").fit(train_x, train_y)\n",
    "end = time.time()\n",
    "print(\"Time = \" + str(end - begin) + \" sec\")\n",
    "y_pred_logistic_lb = clf.predict(test_x)\n",
    "print(\"Accuracy = \" + str(accuracy_score(test_y, y_pred_logistic_lb)))"
   ]
  },
  {
   "cell_type": "code",
   "execution_count": 14,
   "id": "KxiXu_keOoS8",
   "metadata": {
    "colab": {
     "base_uri": "https://localhost:8080/"
    },
    "id": "KxiXu_keOoS8",
    "outputId": "89963a6d-1a47-4c42-eedb-b69c348f66a9"
   },
   "outputs": [
    {
     "name": "stdout",
     "output_type": "stream",
     "text": [
      "Time = 2.36022686958313 sec\n",
      "Accuracy = 0.9783683559950557\n"
     ]
    }
   ],
   "source": [
    "from sklearn.linear_model import LogisticRegression\n",
    "begin = time.time()\n",
    "clf = LogisticRegression(solver = \"liblinear\", random_state=0, penalty=\"l1\").fit(train_x, train_y)\n",
    "end = time.time()\n",
    "print(\"Time = \" + str(end - begin) + \" sec\")\n",
    "y_pred_logistic_lb = clf.predict(test_x)\n",
    "print(\"Accuracy = \" + str(accuracy_score(test_y, y_pred_logistic_lb)))"
   ]
  },
  {
   "cell_type": "code",
   "execution_count": 15,
   "id": "AsGhZ5s7FeDf",
   "metadata": {
    "colab": {
     "base_uri": "https://localhost:8080/"
    },
    "id": "AsGhZ5s7FeDf",
    "outputId": "d11b6f9e-ed33-4ba9-8707-656f40bf9c42"
   },
   "outputs": [
    {
     "name": "stdout",
     "output_type": "stream",
     "text": [
      "Time = 1.3653218746185303 sec\n",
      "Accuracy = 0.9746600741656366\n"
     ]
    }
   ],
   "source": [
    "from sklearn.linear_model import LogisticRegression\n",
    "begin = time.time()\n",
    "clf = LogisticRegression(multi_class = \"multinomial\", solver = \"newton-cg\", random_state=0).fit(train_x, train_y)\n",
    "end = time.time()\n",
    "print(\"Time = \" + str(end - begin) + \" sec\")\n",
    "y_pred_logistic_nc = clf.predict(test_x)\n",
    "print(\"Accuracy = \" + str(accuracy_score(test_y, y_pred_logistic_nc)))"
   ]
  },
  {
   "cell_type": "code",
   "execution_count": 16,
   "id": "TSBqTkw7FiWO",
   "metadata": {
    "colab": {
     "base_uri": "https://localhost:8080/"
    },
    "id": "TSBqTkw7FiWO",
    "outputId": "37646ed5-823f-48d3-e2a0-8ebd0e0b3793"
   },
   "outputs": [
    {
     "name": "stdout",
     "output_type": "stream",
     "text": [
      "Time = 2.4442780017852783 sec\n",
      "Accuracy = 0.9734239802224969\n"
     ]
    },
    {
     "name": "stderr",
     "output_type": "stream",
     "text": [
      "/Library/Frameworks/Python.framework/Versions/3.9/lib/python3.9/site-packages/sklearn/linear_model/_sag.py:328: ConvergenceWarning: The max_iter was reached which means the coef_ did not converge\n",
      "  warnings.warn(\"The max_iter was reached which means \"\n"
     ]
    }
   ],
   "source": [
    "from sklearn.linear_model import LogisticRegression\n",
    "begin = time.time()\n",
    "clf = LogisticRegression(multi_class = \"multinomial\", solver = \"saga\", random_state=0, penalty=\"elasticnet\", l1_ratio = 0.3).fit(train_x, train_y)\n",
    "end = time.time()\n",
    "print(\"Time = \" + str(end - begin) + \" sec\")\n",
    "y_pred_logistic_sg = clf.predict(test_x)\n",
    "print(\"Accuracy = \" + str(accuracy_score(test_y, y_pred_logistic_sg)))"
   ]
  },
  {
   "cell_type": "markdown",
   "id": "3d3c9589",
   "metadata": {
    "id": "3d3c9589"
   },
   "source": [
    "# Compare time and accuracy of different Logistic Regression algos [Marks:0.5]"
   ]
  },
  {
   "cell_type": "markdown",
   "id": "29c89da7",
   "metadata": {
    "id": "7a806305"
   },
   "source": [
    "#### We compare the running time for building all the different classifiers using the Logistic Classification Algos, and find that The Logistic Regression Model \n",
    "#### for lbfgs solver and L2 penalty gives the minimum time and the best accuracy. \n",
    "#### Though Newton-cg solver gave slightly better accuracy as compared to lbfgs, it was computationally expensive thus taking longer time to fit the model. \n",
    "#### Also, liblinear with L1 regularization gives a better accuracy but takes very long time to fit the model. \n",
    "#### Hence we go with solver = lbfgs and L2 penalty. "
   ]
  },
  {
   "cell_type": "markdown",
   "id": "657d8f46",
   "metadata": {},
   "source": [
    "Minimum time =  lbfgs (0.510s)\n",
    "Maximum Accuracy = liblinear_l2 (97.9604%)"
   ]
  },
  {
   "cell_type": "markdown",
   "id": "8f36cb10",
   "metadata": {
    "id": "8f36cb10"
   },
   "source": [
    "# Plot confusion Matrix for the final model selected [Marks:1]"
   ]
  },
  {
   "cell_type": "code",
   "execution_count": 17,
   "id": "c372cc7b",
   "metadata": {
    "colab": {
     "base_uri": "https://localhost:8080/"
    },
    "id": "c372cc7b",
    "outputId": "3f7c47b3-63b7-4bf4-d82a-4d045f7e7edf"
   },
   "outputs": [
    {
     "name": "stdout",
     "output_type": "stream",
     "text": [
      "Confusion Matrix : \n",
      "\n",
      "[[318   0   0   0   0   0]\n",
      " [  1 267  20   0   0   0]\n",
      " [  0  13 309   0   0   0]\n",
      " [  0   0   0 250   0   0]\n",
      " [  0   0   0   1 207   2]\n",
      " [  0   0   0   1   2 227]]\n"
     ]
    }
   ],
   "source": [
    "print(\"Confusion Matrix : \\n\")\n",
    "print(confusion_matrix(test_y, y_pred_logistic_ls))"
   ]
  },
  {
   "cell_type": "markdown",
   "id": "0e44bfb9",
   "metadata": {},
   "source": [
    "Final model selected is lbfgs because it gives a comaparable accuracy with much better computation expense"
   ]
  },
  {
   "cell_type": "code",
   "execution_count": 18,
   "id": "9184b59e",
   "metadata": {
    "colab": {
     "base_uri": "https://localhost:8080/"
    },
    "id": "9184b59e",
    "outputId": "8c2a0bdd-433d-4135-d268-8581f8287813"
   },
   "outputs": [
    {
     "name": "stdout",
     "output_type": "stream",
     "text": [
      "Precision = 0.9752781211372065\n",
      "Recall = 0.9752781211372065\n",
      "F1 Score = 0.9752781211372065\n"
     ]
    }
   ],
   "source": [
    "print(\"Precision = \" + str(precision_score(test_y,y_pred_logistic_ls, average = 'micro')))\n",
    "print(\"Recall = \" + str(recall_score(test_y,y_pred_logistic_ls, average = 'micro')))\n",
    "print(\"F1 Score = \" + str(f1_score(test_y,y_pred_logistic_ls, average = 'micro')))"
   ]
  },
  {
   "cell_type": "code",
   "execution_count": 19,
   "id": "UrcjgLHgJvzD",
   "metadata": {
    "colab": {
     "base_uri": "https://localhost:8080/"
    },
    "id": "UrcjgLHgJvzD",
    "outputId": "86612f8f-855a-493c-8449-4bcbdcacc2df"
   },
   "outputs": [
    {
     "name": "stdout",
     "output_type": "stream",
     "text": [
      "Percision = 0.9772344747326444\n",
      "Recall = 0.9765635783298827\n",
      "F1 Score = 0.9768448763268913\n"
     ]
    }
   ],
   "source": [
    "print(\"Percision = \" + str(precision_score(test_y,y_pred_logistic_ls, average = 'macro')))\n",
    "print(\"Recall = \" + str(recall_score(test_y,y_pred_logistic_ls, average = 'macro')))\n",
    "print(\"F1 Score = \" + str(f1_score(test_y,y_pred_logistic_ls, average = 'macro')))"
   ]
  },
  {
   "cell_type": "code",
   "execution_count": 20,
   "id": "GIsqKf8mJyTL",
   "metadata": {
    "colab": {
     "base_uri": "https://localhost:8080/"
    },
    "id": "GIsqKf8mJyTL",
    "outputId": "9152a308-a10c-43d0-8948-56edb36ea5ff"
   },
   "outputs": [
    {
     "name": "stdout",
     "output_type": "stream",
     "text": [
      "Precision = 0.9753119951502668\n",
      "Recall = 0.9752781211372065\n",
      "F1 Score = 0.9752356851162027\n"
     ]
    }
   ],
   "source": [
    "print(\"Precision = \" + str(precision_score(test_y,y_pred_logistic_ls, average = 'weighted')))\n",
    "print(\"Recall = \" + str(recall_score(test_y,y_pred_logistic_ls, average = 'weighted')))\n",
    "print(\"F1 Score = \" + str(f1_score(test_y,y_pred_logistic_ls, average = 'weighted')))"
   ]
  },
  {
   "cell_type": "markdown",
   "id": "6cbeded4",
   "metadata": {
    "id": "omwf5TDrogmz"
   },
   "source": [
    "#### Micro score calculates the F1_score by considering total true positives, false negatives and false positive. \n",
    "#### Macro computes the F1_score for each label and then returns the average without considering the prportion for each label. \n",
    "#### Weighted computes F1_score for each label then computes the average considering the proportion for each label. "
   ]
  }
 ],
 "metadata": {
  "colab": {
   "provenance": []
  },
  "kernelspec": {
   "display_name": "Python 3.9.5 64-bit",
   "language": "python",
   "name": "python3"
  },
  "language_info": {
   "codemirror_mode": {
    "name": "ipython",
    "version": 3
   },
   "file_extension": ".py",
   "mimetype": "text/x-python",
   "name": "python",
   "nbconvert_exporter": "python",
   "pygments_lexer": "ipython3",
   "version": "3.9.5"
  },
  "vscode": {
   "interpreter": {
    "hash": "aee8b7b246df8f9039afb4144a1f6fd8d2ca17a180786b69acc140d282b71a49"
   }
  }
 },
 "nbformat": 4,
 "nbformat_minor": 5
}
